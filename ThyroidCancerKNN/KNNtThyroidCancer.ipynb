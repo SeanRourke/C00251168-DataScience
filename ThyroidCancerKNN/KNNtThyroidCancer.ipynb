{
 "cells": [
  {
   "cell_type": "markdown",
   "metadata": {},
   "source": [
    "## Thyroid Cancer Risk k-Nearest Neighbours Project\n",
    "\n",
    "### Dataset\n",
    "\n",
    "Dataset containing denigraphic facts, clinical history, lifestyle factors and key thyroid hormone degrees of patients. The dataset contains information for 212,691 patients. Dataset obtained from Kaggle at https://www.kaggle.com/datasets/mzohaibzeeshan/thyroid-cancer-risk-dataset.\n",
    "\n",
    "Dataset contains the columns:\n",
    "\n",
    "- Patient_ID: Unique identifier for each patient.\n",
    "- Age: The age of the patient.\n",
    "- Gender: Gender of the patient (Male / Female).\n",
    "- Country: Patient's country of residence.\n",
    "- Ethnicity: Patient's ethnic background.\n",
    "- Family_History: Whether the patient has a family history of thyroid cancer (Yes / No).\n",
    "- Radiation Exposure: History of radiation exposure (Yes / No).\n",
    "- Iodine_Deficiency: Presence of iodine deficiency (Yes / No).\n",
    "- Smoking: Whether the patient smokes (Yes / No).\n",
    "- Obesity: Whether the patient is obese (Yes / No).\n",
    "- Diabetes: Whether the patient has diabetes (Yes / No).\n",
    "- TSH_Level: Thyroid-Stimulating Hormone level (µg/dL).\n",
    "- T3_Level: Triiodothyronine level (ng/dL).\n",
    "- T4_Level: Thyroxine level (µg/dL).\n",
    "- Nodule_Size (float): Size of thyroid nodules (cm).\n",
    "- Thyroid_Cancer_Risk (object): Estimated risk of thyroid cancer (Low/Medium/High).\n",
    "- Diagnosis (object): Final diagnosis (Benign/Malignant).\n",
    "\n",
    "##### Preprocessing\n",
    "\n",
    "The Patient_ID column was removed before training as it should have no relation to the presence of thyroid cancer.\n",
    "\n",
    "### Findings\n",
    "\n",
    "From performing operations on this dataset, I have found that using k-Nearest Neighbours with a value of 3 neighbours is somewhat accurate but not enough to be considered useful in the medical field. An accuracy value of 0.77 is not terrible but when the prediction involves people's health it is not accurate enough. Using more detailed accuracy measurements, we can see that the model is quite accurate at predicting the absence of thyroid cancer, with precision, recall and f1 score values of 0.82, 0.90 and 0.86 respectively. It struggled with accurately predicting the presence of thyroid cancer, using the same measures we get values of 0.51, 0.35 and 0.41. This could be due to many things such as needing more malignant data or using a different value for k in our prediction.\n",
    "\n",
    "When using 5 neaighbours instead of 3, we see an increase in every accuracy measurement except for malignant diagnosis recall, which saw a decrease of 0.01. These improvements are not enough to make a signifcant difference but they do show that there could be potential for further improvement with a different amount of neighbours once again."
   ]
  },
  {
   "cell_type": "markdown",
   "metadata": {},
   "source": [
    "## Changelog\n",
    "\n",
    "#### Version 1\n",
    "\n",
    "- Read in dataset.\n",
    "- Converted categorical data using both label encoding and one-hot encoding.\n",
    "- Split model into training and test data.\n",
    "- Added model using k-Nearest Neighbours. (k = 3).\n",
    "- Fit model to data.\n",
    "- Analysed accuracy of the model using accuracy measurements and confusion matrix.\n",
    "\n",
    "#### Version 2\n",
    "\n",
    "- Added new model that uses k = 5.\n",
    "- Made predictions on same data.\n",
    "- Compared performance of the two models."
   ]
  },
  {
   "cell_type": "code",
   "execution_count": null,
   "metadata": {},
   "outputs": [],
   "source": [
    "# Imoprt pandas for reading dataset\n",
    "\n",
    "import pandas as pd"
   ]
  },
  {
   "cell_type": "code",
   "execution_count": 153,
   "metadata": {},
   "outputs": [
    {
     "name": "stdout",
     "output_type": "stream",
     "text": [
      "   Patient_ID  Age  Gender  Country  Ethnicity Family_History  \\\n",
      "0           1   66    Male   Russia  Caucasian             No   \n",
      "1           2   29    Male  Germany   Hispanic             No   \n",
      "2           3   86    Male  Nigeria  Caucasian             No   \n",
      "3           4   75  Female    India      Asian             No   \n",
      "4           5   35  Female  Germany    African            Yes   \n",
      "\n",
      "  Radiation_Exposure Iodine_Deficiency Smoking Obesity Diabetes  TSH_Level  \\\n",
      "0                Yes                No      No      No       No       9.37   \n",
      "1                Yes                No      No      No       No       1.83   \n",
      "2                 No                No      No      No       No       6.26   \n",
      "3                 No                No      No      No       No       4.10   \n",
      "4                Yes                No      No      No       No       9.10   \n",
      "\n",
      "   T3_Level  T4_Level  Nodule_Size Thyroid_Cancer_Risk Diagnosis  \n",
      "0      1.67      6.16         1.08                 Low    Benign  \n",
      "1      1.73     10.54         4.05                 Low    Benign  \n",
      "2      2.59     10.57         4.61                 Low    Benign  \n",
      "3      2.62     11.04         2.46              Medium    Benign  \n",
      "4      2.11     10.71         2.11                High    Benign  \n"
     ]
    }
   ],
   "source": [
    "# Read dataset, print rows to check if it has worked\n",
    "\n",
    "df = pd.read_csv('thyroid_cancer_risk_data.csv')\n",
    "print(df.head())"
   ]
  },
  {
   "cell_type": "code",
   "execution_count": 154,
   "metadata": {},
   "outputs": [
    {
     "name": "stdout",
     "output_type": "stream",
     "text": [
      "Patient_ID             0\n",
      "Age                    0\n",
      "Gender                 0\n",
      "Country                0\n",
      "Ethnicity              0\n",
      "Family_History         0\n",
      "Radiation_Exposure     0\n",
      "Iodine_Deficiency      0\n",
      "Smoking                0\n",
      "Obesity                0\n",
      "Diabetes               0\n",
      "TSH_Level              0\n",
      "T3_Level               0\n",
      "T4_Level               0\n",
      "Nodule_Size            0\n",
      "Thyroid_Cancer_Risk    0\n",
      "Diagnosis              0\n",
      "dtype: int64\n"
     ]
    }
   ],
   "source": [
    "# Check for any rows with null values\n",
    "\n",
    "print(df.isnull().sum())"
   ]
  },
  {
   "cell_type": "code",
   "execution_count": 155,
   "metadata": {},
   "outputs": [],
   "source": [
    "# Remove Patient_ID as it has no relevancy to Thyroid cancer prediction\n",
    "\n",
    "df = df.drop('Patient_ID', axis=1)"
   ]
  },
  {
   "cell_type": "code",
   "execution_count": 156,
   "metadata": {},
   "outputs": [
    {
     "data": {
      "image/png": "[encoded data removed]",
      "text/plain": [
       "<Figure size 640x480 with 1 Axes>"
      ]
     },
     "metadata": {},
     "output_type": "display_data"
    }
   ],
   "source": [
    "# Histogram showing the number of benign and malignant results\n",
    "\n",
    "import matplotlib.pyplot as plt\n",
    "\n",
    "df[\"Diagnosis\"].hist(bins=3)\n",
    "plt.show()"
   ]
  },
  {
   "cell_type": "code",
   "execution_count": null,
   "metadata": {},
   "outputs": [],
   "source": [
    "# Convert categorical data into numerical representations\n",
    "# Label encoder is used for binary columns \n",
    "# One hot encoder is used for columns with more than 2 categories\n",
    "\n",
    "from sklearn.preprocessing import LabelEncoder\n",
    "\n",
    "encoder = LabelEncoder()\n",
    "binary_categorical = ['Gender', 'Family_History', 'Radiation_Exposure', 'Iodine_Deficiency', 'Smoking', 'Obesity', 'Diabetes', 'Diagnosis']\n",
    "categorical = ['Country', 'Ethnicity', 'Thyroid_Cancer_Risk']\n",
    "\n",
    "for col in binary_categorical:\n",
    "\n",
    "    df[col] = encoder.fit_transform(df[col])\n",
    "\n",
    "df = pd.get_dummies(df, columns=categorical)"
   ]
  },
  {
   "cell_type": "code",
   "execution_count": null,
   "metadata": {},
   "outputs": [
    {
     "name": "stdout",
     "output_type": "stream",
     "text": [
      "{'Benign': np.int64(0), 'Malignant': np.int64(1)}\n"
     ]
    }
   ],
   "source": [
    "# Check which value Benign and Malignant were assigned to (should be alphabetical)\n",
    "\n",
    "label_mapping = dict(zip(encoder.classes_, encoder.transform(encoder.classes_)))\n",
    "print(label_mapping)"
   ]
  },
  {
   "cell_type": "code",
   "execution_count": null,
   "metadata": {},
   "outputs": [
    {
     "data": {
      "text/plain": [
       "Age                           0.000115\n",
       "Gender                       -0.001439\n",
       "Family_History                0.140921\n",
       "Radiation_Exposure            0.089043\n",
       "Iodine_Deficiency             0.099032\n",
       "Smoking                       0.000862\n",
       "Obesity                      -0.001233\n",
       "Diabetes                     -0.003218\n",
       "TSH_Level                    -0.002670\n",
       "T3_Level                     -0.002388\n",
       "T4_Level                      0.001216\n",
       "Nodule_Size                  -0.002658\n",
       "Diagnosis                     1.000000\n",
       "Country_Brazil               -0.018636\n",
       "Country_China                -0.023148\n",
       "Country_Germany              -0.012280\n",
       "Country_India                 0.113724\n",
       "Country_Japan                -0.018369\n",
       "Country_Nigeria              -0.022294\n",
       "Country_Russia               -0.016643\n",
       "Country_South Korea          -0.017380\n",
       "Country_UK                   -0.012835\n",
       "Country_USA                  -0.017312\n",
       "Ethnicity_African             0.026007\n",
       "Ethnicity_Asian               0.139342\n",
       "Ethnicity_Caucasian          -0.083827\n",
       "Ethnicity_Hispanic           -0.055092\n",
       "Ethnicity_Middle Eastern     -0.042180\n",
       "Thyroid_Cancer_Risk_High      0.464765\n",
       "Thyroid_Cancer_Risk_Low      -0.200045\n",
       "Thyroid_Cancer_Risk_Medium   -0.139178\n",
       "Name: Diagnosis, dtype: float64"
      ]
     },
     "execution_count": 159,
     "metadata": {},
     "output_type": "execute_result"
    }
   ],
   "source": [
    "# View correlation of features to Diagnosis\n",
    "\n",
    "correlation_matrix = df.corr()\n",
    "correlation_matrix[\"Diagnosis\"]"
   ]
  },
  {
   "cell_type": "code",
   "execution_count": null,
   "metadata": {},
   "outputs": [],
   "source": [
    "# Set X to our target column and y to the rest of the feature columns\n",
    "\n",
    "X = df.drop('Diagnosis', axis=1)\n",
    "X = X.values\n",
    "y = df['Diagnosis']\n",
    "y = y.values"
   ]
  },
  {
   "cell_type": "code",
   "execution_count": null,
   "metadata": {},
   "outputs": [],
   "source": [
    "# Split the data into training and test data, 20% test data, 80% training data\n",
    "\n",
    "from sklearn.model_selection import train_test_split\n",
    "\n",
    "X_train, X_test, y_train, y_test = train_test_split(X, y, test_size=0.2, random_state=42)"
   ]
  },
  {
   "cell_type": "code",
   "execution_count": null,
   "metadata": {},
   "outputs": [],
   "source": [
    "# Initialise the kNN model\n",
    "\n",
    "from sklearn.neighbors import KNeighborsRegressor\n",
    "\n",
    "model = KNeighborsRegressor(n_neighbors=3)"
   ]
  },
  {
   "cell_type": "code",
   "execution_count": null,
   "metadata": {},
   "outputs": [],
   "source": [
    "# Fit the model to the data\n",
    "\n",
    "model.fit(X_train, y_train);"
   ]
  },
  {
   "cell_type": "code",
   "execution_count": 167,
   "metadata": {},
   "outputs": [
    {
     "data": {
      "text/plain": [
       "0.3752536089790017"
      ]
     },
     "execution_count": 167,
     "metadata": {},
     "output_type": "execute_result"
    }
   ],
   "source": [
    "# Calculate root mean square error\n",
    "# This tells us the average prediction error\n",
    "# A lower RMSE indicates a better model performance\n",
    "\n",
    "from sklearn.metrics import mean_squared_error\n",
    "from math import sqrt\n",
    "\n",
    "train_preds = model.predict(X_train)\n",
    "train_preds = (train_preds >= 0.5).astype(int)\n",
    "mse = mean_squared_error(y_train, train_preds)\n",
    "rmse = sqrt(mse)\n",
    "rmse"
   ]
  },
  {
   "cell_type": "code",
   "execution_count": null,
   "metadata": {},
   "outputs": [
    {
     "data": {
      "text/plain": [
       "0.4795593783832523"
      ]
     },
     "execution_count": 165,
     "metadata": {},
     "output_type": "execute_result"
    }
   ],
   "source": [
    "# Repeat process on test data\n",
    "\n",
    "y_pred = model.predict(X_test)\n",
    "y_pred = (y_pred >= 0.5).astype(int)\n",
    "mse = mean_squared_error(y_test, y_pred)\n",
    "rmse = sqrt(mse)\n",
    "rmse"
   ]
  },
  {
   "cell_type": "code",
   "execution_count": null,
   "metadata": {},
   "outputs": [
    {
     "name": "stdout",
     "output_type": "stream",
     "text": [
      "Accuracy: 0.77\n",
      "Classification Report:\n",
      "              precision    recall  f1-score   support\n",
      "\n",
      "           0       0.82      0.90      0.86     32615\n",
      "           1       0.51      0.35      0.41      9924\n",
      "\n",
      "    accuracy                           0.77     42539\n",
      "   macro avg       0.66      0.62      0.64     42539\n",
      "weighted avg       0.75      0.77      0.75     42539\n",
      "\n"
     ]
    },
    {
     "data": {
      "image/png": "[encoded data removed]",
      "text/plain": [
       "<Figure size 600x500 with 2 Axes>"
      ]
     },
     "metadata": {},
     "output_type": "display_data"
    }
   ],
   "source": [
    "# Analyse performance of model\n",
    "\n",
    "from sklearn.metrics import accuracy_score, classification_report, confusion_matrix\n",
    "import seaborn as sns\n",
    "\n",
    "# Calculate accuracy\n",
    "accuracy = accuracy_score(y_test, y_pred)\n",
    "print(f'Accuracy: {accuracy:.2}')\n",
    "\n",
    "# Generate a classification report\n",
    "print(\"Classification Report:\")\n",
    "print(classification_report(y_test, y_pred))\n",
    "\n",
    "# Display confusion matrix of results\n",
    "cm = confusion_matrix(y_test, y_pred)\n",
    "\n",
    "\n",
    "plt.figure(figsize=(6,5))\n",
    "class_labels = df['Diagnosis'].unique() \n",
    "sns.heatmap(cm, annot=True, fmt='d', cmap='Blues', xticklabels=class_labels, yticklabels=class_labels)\n",
    "plt.xlabel('Predicted Label')\n",
    "plt.ylabel('True Label')\n",
    "plt.title('Confusion Matrix for KNN')\n",
    "plt.show()"
   ]
  },
  {
   "cell_type": "markdown",
   "metadata": {},
   "source": [
    "#### Results\n",
    "\n",
    "Not a terrible accuracy score but metrics for predicting malignant diagnosis are not good, especially for use in the medical field. Metrics when predicting benign diagnosis are good."
   ]
  },
  {
   "cell_type": "code",
   "execution_count": null,
   "metadata": {},
   "outputs": [],
   "source": [
    "# Initialise the kNN model\n",
    "# Using 5 neighbours instead of 3 to compare results\n",
    "\n",
    "from sklearn.neighbors import KNeighborsRegressor\n",
    "\n",
    "model2 = KNeighborsRegressor(n_neighbors=5)"
   ]
  },
  {
   "cell_type": "code",
   "execution_count": 185,
   "metadata": {},
   "outputs": [],
   "source": [
    "# Fit the model to the data\n",
    "\n",
    "model2.fit(X_train, y_train);"
   ]
  },
  {
   "cell_type": "code",
   "execution_count": 188,
   "metadata": {},
   "outputs": [
    {
     "data": {
      "text/plain": [
       "0.4020640011236729"
      ]
     },
     "execution_count": 188,
     "metadata": {},
     "output_type": "execute_result"
    }
   ],
   "source": [
    "# Calculate root mean square error\n",
    "# This tells us the average prediction error\n",
    "# A lower RMSE indicates a better model performance\n",
    "\n",
    "from sklearn.metrics import mean_squared_error\n",
    "from math import sqrt\n",
    "\n",
    "train_preds2 = model2.predict(X_train)\n",
    "train_preds2 = (train_preds2 >= 0.5).astype(int)\n",
    "mse2 = mean_squared_error(y_train, train_preds2)\n",
    "rmse2 = sqrt(mse2)\n",
    "rmse2"
   ]
  },
  {
   "cell_type": "code",
   "execution_count": 189,
   "metadata": {},
   "outputs": [
    {
     "data": {
      "text/plain": [
       "0.4565566953614441"
      ]
     },
     "execution_count": 189,
     "metadata": {},
     "output_type": "execute_result"
    }
   ],
   "source": [
    "# Repeat process on test data\n",
    "\n",
    "y_pred2 = model2.predict(X_test)\n",
    "y_pred2 = (y_pred2 >= 0.5).astype(int)\n",
    "mse2 = mean_squared_error(y_test, y_pred2)\n",
    "rmse2 = sqrt(mse2)\n",
    "rmse2"
   ]
  },
  {
   "cell_type": "code",
   "execution_count": 190,
   "metadata": {},
   "outputs": [
    {
     "name": "stdout",
     "output_type": "stream",
     "text": [
      "Accuracy: 0.79\n",
      "Classification Report:\n",
      "              precision    recall  f1-score   support\n",
      "\n",
      "           0       0.82      0.93      0.87     32615\n",
      "           1       0.59      0.34      0.43      9924\n",
      "\n",
      "    accuracy                           0.79     42539\n",
      "   macro avg       0.71      0.63      0.65     42539\n",
      "weighted avg       0.77      0.79      0.77     42539\n",
      "\n"
     ]
    },
    {
     "data": {
      "image/png": "[encoded data removed]",
      "text/plain": [
       "<Figure size 600x500 with 2 Axes>"
      ]
     },
     "metadata": {},
     "output_type": "display_data"
    }
   ],
   "source": [
    "# Analyse performance of model\n",
    "\n",
    "from sklearn.metrics import accuracy_score, classification_report, confusion_matrix, ConfusionMatrixDisplay\n",
    "import seaborn as sns\n",
    "\n",
    "# Calculate accuracy\n",
    "accuracy = accuracy_score(y_test, y_pred2)\n",
    "print(f'Accuracy: {accuracy:.2}')\n",
    "\n",
    "# Generate a classification report\n",
    "print(\"Classification Report:\")\n",
    "print(classification_report(y_test, y_pred2))\n",
    "\n",
    "# Display confusion matrix of results\n",
    "cm = confusion_matrix(y_test, y_pred2)\n",
    "\n",
    "\n",
    "plt.figure(figsize=(6,5))\n",
    "class_labels = df['Diagnosis'].unique() \n",
    "sns.heatmap(cm, annot=True, fmt='d', cmap='Blues', xticklabels=class_labels, yticklabels=class_labels)\n",
    "plt.xlabel('Predicted Label')\n",
    "plt.ylabel('True Label')\n",
    "plt.title('Confusion Matrix for KNN')\n",
    "plt.show()"
   ]
  },
  {
   "cell_type": "markdown",
   "metadata": {},
   "source": [
    "#### Results\n",
    "\n",
    "Slightly better results than using k=3. Better overall accuracy and every other metric saw either the same result or improvement except malignant diagnosis recall score which saw a decrease of 0.01. "
   ]
  }
 ],
 "metadata": {
  "kernelspec": {
   "display_name": "Python 3",
   "language": "python",
   "name": "python3"
  },
  "language_info": {
   "codemirror_mode": {
    "name": "ipython",
    "version": 3
   },
   "file_extension": ".py",
   "mimetype": "text/x-python",
   "name": "python",
   "nbconvert_exporter": "python",
   "pygments_lexer": "ipython3",
   "version": "3.12.9"
  }
 },
 "nbformat": 4,
 "nbformat_minor": 2
}
