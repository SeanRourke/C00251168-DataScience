{
 "cells": [
  {
   "cell_type": "markdown",
   "metadata": {},
   "source": [
    "## Movie Reviews Bayesian Classifier Project\n",
    "\n",
    "### Dataset\n",
    "\n",
    "Dataset containing 50,000 movie reviews from IMDb (Internet Movie Database). The dataset contains 25,000 positive reviews and 25,000 negative reviews. Dataset obtained from Kaggle at https://www.kaggle.com/datasets/lakshmi25npathi/imdb-dataset-of-50k-movie-reviews.\n",
    "\n",
    "Dataset contains the columns:\n",
    "\n",
    "- review: The review that was written about a movie\n",
    "- sentiment: Whether the review was positive or negative (values of 'positive' or 'negative')\n",
    "\n",
    "##### Preprocessing\n",
    "\n",
    "The review column often contained the HTML tag \\<br />. This was removed from the datasets to reduce noise as they are irrelevant to the sentiment. \n",
    "\n",
    "Row 34813 could not have the HTML tag removed for some unknown reason (an Excel error occurred when attempted), so the row was removed entirely.\n",
    "\n",
    "### Findings\n",
    "\n",
    "From performing operations on this dataset, I have found that using Naive Bayes Classifiers is quite good at sentiment analysis of movie reviews. This can be seen in the accuracy score of 0.85. Across both positive and negative predictions, the model had a weighted average of 0.85 for precision, recall and f1 score. The precision number was slightly better for positive sentiment at 0.87 compared to the negative sentiment's 0.83, whereas the negative sentiment produced better results for both recall (0.88 - 0.82) and f1 score (0.85 - 0.84). The difference in f1 score informs us that the model is slightly more accurate when identifying negative sentiment.\n",
    "\n",
    "When running the model using tfidf vectoriser instead of count vectoriser, the accuracy score goes up from 0.85 to 0.86. the other accuracy measurements all saw improvement as well except for the negative sentiment recall score which saw no change.\n",
    "\n",
    "When cleaning the reviews of non-alphanumeric characters the accuracy scores for the tfidf vectoriser version saw improvement whereas the count vectoriser saw no change.\n",
    "\n",
    "From these results we can see that the best method to use for sentiment analysis for this dataset is processing the text to remove non-alphanumeric characters and then using a tfidf vectoriser."
   ]
  },
  {
   "cell_type": "markdown",
   "metadata": {},
   "source": [
    "## Changelog\n",
    "\n",
    "#### Version 1\n",
    "\n",
    "- Read in dataset.\n",
    "- Converted text data to number vector using count vectoriser.\n",
    "- Added model using Naive Bayes Classifier.\n",
    "- Split data into training and test data.\n",
    "- Fit model to the data.\n",
    "- Analysed accuracy of the model using accuracy measurements and confusion matrix.\n",
    "\n",
    "#### Version 2\n",
    "\n",
    "- Added tfidf vectoriser to convert text data to number vector.\n",
    "- Made predictions on same data but using this method of conversion.\n",
    "- Analysed results and compared to using count vectoriser.\n",
    "\n",
    "#### Version 3\n",
    "\n",
    "- Added versions of the previous methods but with preprocessed text (converting to lower case and removing non-alphanumeric characters)."
   ]
  },
  {
   "cell_type": "code",
   "execution_count": 109,
   "metadata": {},
   "outputs": [],
   "source": [
    "# Import pandas for reading dataset\n",
    "\n",
    "import pandas as pd"
   ]
  },
  {
   "cell_type": "code",
   "execution_count": 110,
   "metadata": {},
   "outputs": [
    {
     "name": "stdout",
     "output_type": "stream",
     "text": [
      "                                              review sentiment\n",
      "0  One of the other reviewers has mentioned that ...  positive\n",
      "1  A wonderful little production. The filming tec...  positive\n",
      "2  I thought this was a wonderful way to spend ti...  positive\n",
      "3  Basically there's a family where a little boy ...  negative\n",
      "4  Petter Mattei's \"Love in the Time of Money\" is...  positive\n"
     ]
    }
   ],
   "source": [
    "# Read dataset, print rows to check if it has worked\n",
    "\n",
    "df = pd.read_csv('IMDBDataset.csv')\n",
    "print(df.head())"
   ]
  },
  {
   "cell_type": "code",
   "execution_count": 111,
   "metadata": {},
   "outputs": [
    {
     "name": "stdout",
     "output_type": "stream",
     "text": [
      "review       0\n",
      "sentiment    0\n",
      "dtype: int64\n"
     ]
    }
   ],
   "source": [
    "# Check for any rows with null values\n",
    "\n",
    "print(df.isnull().sum())"
   ]
  },
  {
   "cell_type": "code",
   "execution_count": 112,
   "metadata": {},
   "outputs": [
    {
     "name": "stdout",
     "output_type": "stream",
     "text": [
      "Feature names: ['00' '000' '00000000000' ... 'żmijewski' 'יגאל' 'כרמון']\n"
     ]
    }
   ],
   "source": [
    "# Use vectoriser, a methodology of mapping words to a vector of real numbers\n",
    "# Count vectoriser uses raw word counts found in the data\n",
    "\n",
    "from sklearn.feature_extraction.text import CountVectorizer\n",
    "\n",
    "# Initialize the CountVectoriser\n",
    "vectorizer = CountVectorizer()\n",
    "\n",
    "# Fit and transform the text data\n",
    "X_counts = vectorizer.fit_transform(df['review'])\n",
    "\n",
    "# Display the feature names (vocabulary)\n",
    "print(\"Feature names:\", vectorizer.get_feature_names_out())\n"
   ]
  },
  {
   "cell_type": "code",
   "execution_count": 113,
   "metadata": {},
   "outputs": [
    {
     "name": "stdout",
     "output_type": "stream",
     "text": [
      "CountVectorizer shape: (49999, 104088)\n"
     ]
    }
   ],
   "source": [
    "# Display the shape of the vectoriser (x, y)\n",
    "# The x value is the number of rows of data\n",
    "# The y value is the number of unique words found in the dataset\n",
    "\n",
    "print(\"CountVectorizer shape:\", X_counts.shape)"
   ]
  },
  {
   "cell_type": "code",
   "execution_count": 114,
   "metadata": {},
   "outputs": [],
   "source": [
    "# Import libraries for splitting data, using Naive Bayes classifier, and displaying the results\n",
    "\n",
    "from sklearn.model_selection import train_test_split\n",
    "from sklearn.naive_bayes import MultinomialNB\n",
    "from sklearn.metrics import accuracy_score, classification_report, confusion_matrix, ConfusionMatrixDisplay"
   ]
  },
  {
   "cell_type": "code",
   "execution_count": 115,
   "metadata": {},
   "outputs": [],
   "source": [
    "# Split the data into training and test data, 20% test data, 80% training data\n",
    "X_train, X_test, y_train, y_test = train_test_split(X_counts, df['sentiment'], test_size=0.2, random_state=42)"
   ]
  },
  {
   "cell_type": "code",
   "execution_count": 116,
   "metadata": {},
   "outputs": [],
   "source": [
    "# Initialize the Naive Bayes classifier\n",
    "model = MultinomialNB()\n",
    "\n",
    "# Fit the model to the training data\n",
    "model.fit(X_train, y_train);"
   ]
  },
  {
   "cell_type": "code",
   "execution_count": 117,
   "metadata": {},
   "outputs": [],
   "source": [
    "# Predict the sentiment for the test set\n",
    "y_pred = model.predict(X_test)"
   ]
  },
  {
   "cell_type": "code",
   "execution_count": 118,
   "metadata": {},
   "outputs": [
    {
     "name": "stdout",
     "output_type": "stream",
     "text": [
      "Accuracy: 0.85\n",
      "Classification Report:\n",
      "              precision    recall  f1-score   support\n",
      "\n",
      "    negative       0.83      0.88      0.85      5001\n",
      "    positive       0.87      0.82      0.84      4999\n",
      "\n",
      "    accuracy                           0.85     10000\n",
      "   macro avg       0.85      0.85      0.85     10000\n",
      "weighted avg       0.85      0.85      0.85     10000\n",
      "\n"
     ]
    },
    {
     "data": {
      "image/png": "[encoded data removed]",
      "text/plain": [
       "<Figure size 640x480 with 2 Axes>"
      ]
     },
     "metadata": {},
     "output_type": "display_data"
    }
   ],
   "source": [
    "# Calculate accuracy\n",
    "accuracy = accuracy_score(y_test, y_pred)\n",
    "print(f'Accuracy: {accuracy:.2}')\n",
    "\n",
    "# Generate a classification report\n",
    "print(\"Classification Report:\")\n",
    "print(classification_report(y_test, y_pred))\n",
    "\n",
    "# Display confusion matrix of results\n",
    "cm = confusion_matrix(y_test, y_pred)\n",
    "display = ConfusionMatrixDisplay(confusion_matrix=cm, display_labels=model.classes_)\n",
    "display.plot(cmap='viridis');"
   ]
  },
  {
   "cell_type": "markdown",
   "metadata": {},
   "source": [
    "#### Results\n",
    "\n",
    "Quite high scores in every accuracy measurement. Slightly better performance in negative sentiment predictions than positive sentiment predictions."
   ]
  },
  {
   "cell_type": "code",
   "execution_count": 119,
   "metadata": {},
   "outputs": [
    {
     "name": "stdout",
     "output_type": "stream",
     "text": [
      "Feature names: ['00' '000' '00000000000' ... 'żmijewski' 'יגאל' 'כרמון']\n"
     ]
    }
   ],
   "source": [
    "# Use tfidf vectoriser (Term Frequency - Inverse Document Frequency) to convert text to real number vector\n",
    "# Tfidf vectoriser evaluates the importance of a word in a document relative to a collection of documents.\n",
    "\n",
    "from sklearn.feature_extraction.text import TfidfVectorizer\n",
    "\n",
    "# Initialize the TfidfVectoriser\n",
    "tfidf_vectorizer = TfidfVectorizer()\n",
    "\n",
    "# Fit and transform the text data\n",
    "X_tfidf = tfidf_vectorizer.fit_transform(df['review'])\n",
    "\n",
    "# Display the feature names (vocabulary)\n",
    "print(\"Feature names:\", tfidf_vectorizer.get_feature_names_out())"
   ]
  },
  {
   "cell_type": "code",
   "execution_count": 120,
   "metadata": {},
   "outputs": [
    {
     "name": "stdout",
     "output_type": "stream",
     "text": [
      "TfidfVectoriser shape: (49999, 104088)\n"
     ]
    }
   ],
   "source": [
    "# Display the shape of the vectoriser (x, y)\n",
    "# The x value is the number of rows of data\n",
    "# The y value is the number of unique words found in the dataset\n",
    "\n",
    "print(\"TfidfVectoriser shape:\", X_tfidf.shape)"
   ]
  },
  {
   "cell_type": "code",
   "execution_count": 121,
   "metadata": {},
   "outputs": [],
   "source": [
    "# Split the data into training and test data, 20% test data, 80% training data\n",
    "X_train, X_test, y_train, y_test = train_test_split(X_tfidf, df['sentiment'], test_size=0.2, random_state=42)"
   ]
  },
  {
   "cell_type": "code",
   "execution_count": 122,
   "metadata": {},
   "outputs": [],
   "source": [
    "# Initialize the Naive Bayes classifier\n",
    "model = MultinomialNB()\n",
    "\n",
    "# Fit the model to the training data\n",
    "model.fit(X_train, y_train);"
   ]
  },
  {
   "cell_type": "code",
   "execution_count": 123,
   "metadata": {},
   "outputs": [],
   "source": [
    "# Predict the sentiment for the test set\n",
    "y_pred = model.predict(X_test)"
   ]
  },
  {
   "cell_type": "code",
   "execution_count": 124,
   "metadata": {},
   "outputs": [
    {
     "name": "stdout",
     "output_type": "stream",
     "text": [
      "Accuracy: 0.86\n",
      "Classification Report:\n",
      "              precision    recall  f1-score   support\n",
      "\n",
      "    negative       0.85      0.88      0.87      5001\n",
      "    positive       0.88      0.84      0.86      4999\n",
      "\n",
      "    accuracy                           0.86     10000\n",
      "   macro avg       0.86      0.86      0.86     10000\n",
      "weighted avg       0.86      0.86      0.86     10000\n",
      "\n"
     ]
    },
    {
     "data": {
      "image/png": "[encoded data removed]",
      "text/plain": [
       "<Figure size 640x480 with 2 Axes>"
      ]
     },
     "metadata": {},
     "output_type": "display_data"
    }
   ],
   "source": [
    "# Calculate accuracy\n",
    "accuracy = accuracy_score(y_test, y_pred)\n",
    "print(f'Accuracy: {accuracy:.2}')\n",
    "\n",
    "# Generate a classification report\n",
    "print(\"Classification Report:\")\n",
    "print(classification_report(y_test, y_pred))\n",
    "\n",
    "# Display confusion matrix of results\n",
    "cm = confusion_matrix(y_test, y_pred)\n",
    "display = ConfusionMatrixDisplay(confusion_matrix=cm, display_labels=model.classes_)\n",
    "display.plot(cmap='viridis');"
   ]
  },
  {
   "cell_type": "markdown",
   "metadata": {},
   "source": [
    "#### Results\n",
    "\n",
    "Using tfidf vectoriser instead of count vectoriser saw improvements in the accuracy score in every category except negative recall score remaining unchanged."
   ]
  },
  {
   "cell_type": "code",
   "execution_count": 125,
   "metadata": {},
   "outputs": [],
   "source": [
    "# Function to convert the review text to lowercase and remove non-alphanumeric characters\n",
    "\n",
    "import re\n",
    "\n",
    "def process_text(text):\n",
    "    \n",
    "    text = text.lower()\n",
    "\n",
    "    text = re.sub(r'[^a-zA-Z\\s]', '', text)\n",
    "\n",
    "    return text"
   ]
  },
  {
   "cell_type": "code",
   "execution_count": 126,
   "metadata": {},
   "outputs": [
    {
     "name": "stdout",
     "output_type": "stream",
     "text": [
      "Feature names: ['aa' 'aaa' 'aaaaaaaaaaaahhhhhhhhhhhhhh' ... 'zzzzzzzzzzzzz'\n",
      " 'zzzzzzzzzzzzzzzzzz' 'zzzzzzzzzzzzzzzzzzzzzzzzzzzzzzz']\n"
     ]
    }
   ],
   "source": [
    "# Use count vectoriser and process the text before conversion\n",
    "\n",
    "from sklearn.feature_extraction.text import CountVectorizer\n",
    "\n",
    "# Initialize the CountVectoriser\n",
    "vectorizer = CountVectorizer()\n",
    "\n",
    "df['cleaned_review'] = df['review'].apply(process_text)\n",
    "\n",
    "# Fit and transform the text data\n",
    "X_counts2 = vectorizer.fit_transform(df['cleaned_review'])\n",
    "\n",
    "# Display the feature names (vocabulary)\n",
    "print(\"Feature names:\", vectorizer.get_feature_names_out())"
   ]
  },
  {
   "cell_type": "code",
   "execution_count": 127,
   "metadata": {},
   "outputs": [
    {
     "name": "stdout",
     "output_type": "stream",
     "text": [
      "CountVectorizer shape: (49999, 214607)\n"
     ]
    }
   ],
   "source": [
    "# Display the shape of the vectoriser (x, y)\n",
    "# The x value is the number of rows of data\n",
    "# The y value is the number of unique words found in the dataset\n",
    "# more unique words found using the cleaned review\n",
    "\n",
    "print(\"CountVectorizer shape:\", X_counts2.shape)"
   ]
  },
  {
   "cell_type": "code",
   "execution_count": 128,
   "metadata": {},
   "outputs": [],
   "source": [
    "# Split the data into training and test data, 20% test data, 80% training data\n",
    "X_train, X_test, y_train, y_test = train_test_split(X_counts2, df['sentiment'], test_size=0.2, random_state=42)"
   ]
  },
  {
   "cell_type": "code",
   "execution_count": 129,
   "metadata": {},
   "outputs": [],
   "source": [
    "# Initialize the Naive Bayes classifier\n",
    "model = MultinomialNB()\n",
    "\n",
    "# Fit the model to the training data\n",
    "model.fit(X_train, y_train);"
   ]
  },
  {
   "cell_type": "code",
   "execution_count": 130,
   "metadata": {},
   "outputs": [],
   "source": [
    "# Predict the sentiment for the test set\n",
    "y_pred = model.predict(X_test)"
   ]
  },
  {
   "cell_type": "code",
   "execution_count": 131,
   "metadata": {},
   "outputs": [
    {
     "name": "stdout",
     "output_type": "stream",
     "text": [
      "Accuracy: 0.85\n",
      "Classification Report:\n",
      "              precision    recall  f1-score   support\n",
      "\n",
      "    negative       0.83      0.88      0.85      5001\n",
      "    positive       0.87      0.82      0.84      4999\n",
      "\n",
      "    accuracy                           0.85     10000\n",
      "   macro avg       0.85      0.85      0.85     10000\n",
      "weighted avg       0.85      0.85      0.85     10000\n",
      "\n"
     ]
    },
    {
     "data": {
      "image/png": "[encoded data removed]",
      "text/plain": [
       "<Figure size 640x480 with 2 Axes>"
      ]
     },
     "metadata": {},
     "output_type": "display_data"
    }
   ],
   "source": [
    "# Calculate accuracy\n",
    "accuracy = accuracy_score(y_test, y_pred)\n",
    "print(f'Accuracy: {accuracy:.2}')\n",
    "\n",
    "# Generate a classification report\n",
    "print(\"Classification Report:\")\n",
    "print(classification_report(y_test, y_pred))\n",
    "\n",
    "# Display confusion matrix of results\n",
    "cm = confusion_matrix(y_test, y_pred)\n",
    "display = ConfusionMatrixDisplay(confusion_matrix=cm, display_labels=model.classes_)\n",
    "display.plot(cmap='viridis');"
   ]
  },
  {
   "cell_type": "markdown",
   "metadata": {},
   "source": [
    "#### Results\n",
    "\n",
    "No change in accuracy from using processed text for count vectoriser."
   ]
  },
  {
   "cell_type": "code",
   "execution_count": 132,
   "metadata": {},
   "outputs": [
    {
     "name": "stdout",
     "output_type": "stream",
     "text": [
      "Feature names: ['aa' 'aaa' 'aaaaaaaaaaaahhhhhhhhhhhhhh' ... 'zzzzzzzzzzzzz'\n",
      " 'zzzzzzzzzzzzzzzzzz' 'zzzzzzzzzzzzzzzzzzzzzzzzzzzzzzz']\n"
     ]
    }
   ],
   "source": [
    "# Use tfidf vectoriser and process the text before conversion\n",
    "\n",
    "from sklearn.feature_extraction.text import TfidfVectorizer\n",
    "\n",
    "# Initialize the TfidfVectoriser\n",
    "vectorizer = TfidfVectorizer()\n",
    "\n",
    "df['cleaned_review'] = df['review'].apply(process_text)\n",
    "\n",
    "# Fit and transform the text data\n",
    "X_tfidf2 = vectorizer.fit_transform(df['cleaned_review'])\n",
    "\n",
    "# Display the feature names (vocabulary)\n",
    "print(\"Feature names:\", vectorizer.get_feature_names_out())"
   ]
  },
  {
   "cell_type": "code",
   "execution_count": 133,
   "metadata": {},
   "outputs": [
    {
     "name": "stdout",
     "output_type": "stream",
     "text": [
      "CountVectorizer shape: (49999, 214607)\n"
     ]
    }
   ],
   "source": [
    "# Display the shape of the vectoriser (x, y)\n",
    "# The x value is the number of rows of data\n",
    "# The y value is the number of unique words found in the dataset\n",
    "# more unique words found using the cleaned review\n",
    "\n",
    "print(\"CountVectorizer shape:\", X_tfidf2.shape)"
   ]
  },
  {
   "cell_type": "code",
   "execution_count": 134,
   "metadata": {},
   "outputs": [],
   "source": [
    "# Split the data into training and test data, 20% test data, 80% training data\n",
    "X_train, X_test, y_train, y_test = train_test_split(X_tfidf2, df['sentiment'], test_size=0.2, random_state=42)"
   ]
  },
  {
   "cell_type": "code",
   "execution_count": 135,
   "metadata": {},
   "outputs": [],
   "source": [
    "# Initialize the Naive Bayes classifier\n",
    "model = MultinomialNB()\n",
    "\n",
    "# Fit the model to the training data\n",
    "model.fit(X_train, y_train);"
   ]
  },
  {
   "cell_type": "code",
   "execution_count": 136,
   "metadata": {},
   "outputs": [],
   "source": [
    "# Predict the sentiment for the test set\n",
    "y_pred = model.predict(X_test)"
   ]
  },
  {
   "cell_type": "code",
   "execution_count": 137,
   "metadata": {},
   "outputs": [
    {
     "name": "stdout",
     "output_type": "stream",
     "text": [
      "Accuracy: 0.87\n",
      "Classification Report:\n",
      "              precision    recall  f1-score   support\n",
      "\n",
      "    negative       0.85      0.89      0.87      5001\n",
      "    positive       0.88      0.84      0.86      4999\n",
      "\n",
      "    accuracy                           0.87     10000\n",
      "   macro avg       0.87      0.87      0.87     10000\n",
      "weighted avg       0.87      0.87      0.87     10000\n",
      "\n"
     ]
    },
    {
     "data": {
      "image/png": "[encoded data removed]",
      "text/plain": [
       "<Figure size 640x480 with 2 Axes>"
      ]
     },
     "metadata": {},
     "output_type": "display_data"
    }
   ],
   "source": [
    "# Calculate accuracy\n",
    "accuracy = accuracy_score(y_test, y_pred)\n",
    "print(f'Accuracy: {accuracy:.2}')\n",
    "\n",
    "# Generate a classification report\n",
    "print(\"Classification Report:\")\n",
    "print(classification_report(y_test, y_pred))\n",
    "\n",
    "# Display confusion matrix of results\n",
    "cm = confusion_matrix(y_test, y_pred)\n",
    "display = ConfusionMatrixDisplay(confusion_matrix=cm, display_labels=model.classes_)\n",
    "display.plot(cmap='viridis');"
   ]
  },
  {
   "cell_type": "markdown",
   "metadata": {},
   "source": [
    "#### Results\n",
    "\n",
    "Slight improvement to overall accuracy score and negative recall score, other scores remained the unchanged."
   ]
  }
 ],
 "metadata": {
  "kernelspec": {
   "display_name": "Python 3",
   "language": "python",
   "name": "python3"
  },
  "language_info": {
   "codemirror_mode": {
    "name": "ipython",
    "version": 3
   },
   "file_extension": ".py",
   "mimetype": "text/x-python",
   "name": "python",
   "nbconvert_exporter": "python",
   "pygments_lexer": "ipython3",
   "version": "3.12.8"
  }
 },
 "nbformat": 4,
 "nbformat_minor": 2
}
