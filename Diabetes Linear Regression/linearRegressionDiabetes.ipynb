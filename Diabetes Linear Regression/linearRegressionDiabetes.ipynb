{
 "cells": [
  {
   "cell_type": "markdown",
   "metadata": {},
   "source": [
    "## Diabetes Linear Regression Project\n",
    "\n",
    "### Data Set\n",
    "\n",
    "Dataset containing of females at least 21 years old of Pima Indian heritage.\n",
    "Dataset obtained from Kaggle, available here: https://www.kaggle.com/datasets/mathchi/diabetes-data-set.\n",
    "Dataset originally taken from larger datasbase from the National Institute of Diabetes and Digestive and Kidney Diseases.\n",
    "\n",
    "Dataset contains the columns:\n",
    "\n",
    "- Pregnancies: Number of times pregnant\n",
    "- Glucose: Plasma glucose concentration, 2 hours in an oral glucose tolerance test\n",
    "- BloodPressure: Diastolic blood pressure (mm Hg)\n",
    "- SkinThickness: Triceps skin fold thickness (mm)\n",
    "- Insulin: 2-hour serum insulin (mu U/ml)\n",
    "- BMI: Body mass index (weight in kg / (height in m)^2)\n",
    "- DiabetesPedigreeFunction: Probability of diabetes based on family history\n",
    "- Age: Age in years\n",
    "- Outcome: Presence of diabetes (0 or 1)\n",
    "\n",
    "### Findings\n",
    "\n",
    "From performing operations on this data I have found that many of these fields have no correlation between them. For example, there seems to be no accurate link between blood pressure and skin thickness.\n",
    "However, there are some fields here where a noticable correlation is present. For example, BMI and skin thickness. There is a noticable trend of increased skin thickness as BMI rises.\n",
    "\n",
    "Findings like this could have clinical relevance. For example, the correlation found between BMI and skin thickness could suggest that monitoring BMI could be important for assessing skin-related health issues.\n",
    "\n",
    "I think the data here shows the limitations of linear regression as many of the pieces of data have no linear correlation between them. Perhaps a different machine learning model could find a more consistent pattern that could be used for accurate predictions.\n",
    "\n",
    "There could potentially be many other variables that could affect these data values that haven't been considered in this dataset, such as height."
   ]
  },
  {
   "cell_type": "code",
   "execution_count": 1,
   "metadata": {},
   "outputs": [],
   "source": [
    "# import all required libraries\n",
    "\n",
    "%matplotlib inline\n",
    "import matplotlib.pyplot as plt\n",
    "plt.style.use('seaborn-v0_8-whitegrid')\n",
    "import numpy as np\n",
    "import pandas as pd\n",
    "from sklearn.model_selection import train_test_split\n",
    "from sklearn.linear_model import LinearRegression\n",
    "from sklearn.metrics import mean_absolute_error, root_mean_squared_error, r2_score\n",
    "import ipywidgets as widgets\n",
    "from IPython.display import display\n"
   ]
  },
  {
   "cell_type": "code",
   "execution_count": 2,
   "metadata": {},
   "outputs": [],
   "source": [
    "# read data from the csv file\n",
    "# remove any outliers where the data is 0 when it shouldn't be\n",
    "\n",
    "df_raw = pd.read_csv('diabetes.csv')\n",
    "df = df_raw[(df_raw['Glucose'] > 0) & (df_raw['BloodPressure'] > 0) & (df_raw['SkinThickness'] > 0) & (df_raw['Insulin'] > 0) & (df_raw['BMI'] > 0) & (df_raw['DiabetesPedigreeFunction'] > 0)]"
   ]
  },
  {
   "cell_type": "code",
   "execution_count": 3,
   "metadata": {},
   "outputs": [
    {
     "data": {
      "application/vnd.jupyter.widget-view+json": {
       "model_id": "3464af51955b4f6fbfe93745d0e637a9",
       "version_major": 2,
       "version_minor": 0
      },
      "text/plain": [
       "Dropdown(description='Target:', options=('Pregnancies', 'Glucose', 'BloodPressure', 'SkinThickness', 'Insulin'…"
      ]
     },
     "metadata": {},
     "output_type": "display_data"
    }
   ],
   "source": [
    "# dropdown to select target column\n",
    "\n",
    "target_dropdown = widgets.Dropdown(\n",
    "    options = df.columns,\n",
    "    description = 'Target:',\n",
    "    disabled = False,\n",
    ")\n",
    "\n",
    "display(target_dropdown)"
   ]
  },
  {
   "cell_type": "code",
   "execution_count": 4,
   "metadata": {},
   "outputs": [
    {
     "data": {
      "application/vnd.jupyter.widget-view+json": {
       "model_id": "3be188cdc8b940398df655c7d5661ba2",
       "version_major": 2,
       "version_minor": 0
      },
      "text/plain": [
       "Dropdown(description='Feature:', options=('Pregnancies', 'Glucose', 'BloodPressure', 'SkinThickness', 'Insulin…"
      ]
     },
     "metadata": {},
     "output_type": "display_data"
    }
   ],
   "source": [
    "# dropdown to select feature columns\n",
    "\n",
    "feature_dropdown = widgets.Dropdown(\n",
    "    options = df.columns,\n",
    "    description = 'Feature:',\n",
    "    disabled = False,\n",
    ")\n",
    "\n",
    "display(feature_dropdown)"
   ]
  },
  {
   "cell_type": "code",
   "execution_count": 5,
   "metadata": {},
   "outputs": [],
   "source": [
    "# reshape x axis to be a 2D array for scikit-learn operations\n",
    "# get data values as a NumPy array\n",
    "\n",
    "selected_target = target_dropdown.value\n",
    "selected_feature = feature_dropdown.value  \n",
    "\n",
    "x = df[selected_feature].values.reshape(-1, 1)\n",
    "y = df[selected_target].values"
   ]
  },
  {
   "cell_type": "code",
   "execution_count": 6,
   "metadata": {},
   "outputs": [],
   "source": [
    "# randomly select data to split into training and test data, 80% training data, 20% test data\n",
    "\n",
    "x_train, x_test, y_train, y_test = train_test_split(x, y, test_size = 0.2, random_state = 37)\n"
   ]
  },
  {
   "cell_type": "code",
   "execution_count": 7,
   "metadata": {},
   "outputs": [],
   "source": [
    "# fit linear regression model \n",
    "# predict values for line of best fit\n",
    "\n",
    "model = LinearRegression()\n",
    "model.fit(x_train, y_train)\n",
    "\n",
    "y_pred = model.predict(x_test)"
   ]
  },
  {
   "cell_type": "code",
   "execution_count": 8,
   "metadata": {},
   "outputs": [
    {
     "data": {
      "image/png": "[encoded data removed]",
      "text/plain": [
       "<Figure size 800x600 with 1 Axes>"
      ]
     },
     "metadata": {},
     "output_type": "display_data"
    }
   ],
   "source": [
    "# plot data points and line of best fit\n",
    "\n",
    "plt.figure(figsize = (8, 6))\n",
    "plt.scatter(x_test, y_test) \n",
    "plt.plot(x_test, y_pred, color = 'red', label = 'Line of Best Fit')\n",
    "plt.xlabel(selected_feature)\n",
    "plt.ylabel(selected_target)\n",
    "plt.title(f\"{selected_feature} vs {selected_target}\")\n",
    "plt.legend()\n",
    "plt.show()\n",
    "\n"
   ]
  },
  {
   "cell_type": "code",
   "execution_count": 9,
   "metadata": {},
   "outputs": [
    {
     "name": "stdout",
     "output_type": "stream",
     "text": [
      "Model slope: 0.9841741698316796\n"
     ]
    }
   ],
   "source": [
    "# slope of line of best fit, telling us the nature of the relationship\n",
    "\n",
    "print(\"Model slope:\", model.coef_[0])"
   ]
  },
  {
   "cell_type": "code",
   "execution_count": 10,
   "metadata": {},
   "outputs": [
    {
     "name": "stdout",
     "output_type": "stream",
     "text": [
      "Mean Absolute Error: 5.6837461798694005\n",
      "Mean Squared Error: 6.8389928710477195\n",
      "R² Score: 0.4649303804242435\n"
     ]
    }
   ],
   "source": [
    "# analysis on accuracy\n",
    "# mean absolute error: average absolute difference between predicted values and actual values, lower mae indicates better model performance\n",
    "# root mean squared error: average magnitude of errors between predicted values and actual values, lower rmse indicates better model performance\n",
    "# R²: proportion of variance in the target variable that can be explained by the model, ranges from 0-1, higher R² indicates better model performance\n",
    "\n",
    "mae = mean_absolute_error(y_test, y_pred)\n",
    "mse = root_mean_squared_error(y_test, y_pred)\n",
    "r2 = r2_score(y_test, y_pred)\n",
    "\n",
    "print(f\"Mean Absolute Error: {mae}\")\n",
    "print(f\"Mean Squared Error: {mse}\")\n",
    "print(f\"R² Score: {r2}\")"
   ]
  }
 ],
 "metadata": {
  "kernelspec": {
   "display_name": "Python 3",
   "language": "python",
   "name": "python3"
  },
  "language_info": {
   "codemirror_mode": {
    "name": "ipython",
    "version": 3
   },
   "file_extension": ".py",
   "mimetype": "text/x-python",
   "name": "python",
   "nbconvert_exporter": "python",
   "pygments_lexer": "ipython3",
   "version": "3.12.7"
  }
 },
 "nbformat": 4,
 "nbformat_minor": 2
}
