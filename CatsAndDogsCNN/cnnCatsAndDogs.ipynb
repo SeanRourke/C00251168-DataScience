{
 "cells": [
  {
   "cell_type": "markdown",
   "metadata": {},
   "source": [
    "## Cats and Dogs Classification Convolutional Neural Network Project\n",
    "\n",
    "### Dataset\n",
    "\n",
    "Dataset containing 10,000 images of cats and dogs. Dataset obtained from Kaggle at https://www.kaggle.com/datasets/tongpython/cat-and-dog. \n",
    "\n",
    "Dataset contained following (class / number of images):\n",
    "\n",
    "- cat / 5,000\n",
    "- dog / 5,000\n",
    "\n",
    "##### Preprocessing\n",
    "\n",
    "All images are resized to 244 x 244 in this notebook. The original dataset was separated into training and test folders of images, these folders were combined and the data was split in this notebook instead.\n",
    "\n",
    "### Findings\n",
    "\n",
    "From performing operations on this dataset, I have found that this convolutional neural network created to classify the cats and dogs was not accurate. As seen by the accuracy score of around 0.75, the model is correct in its classification more often than not, but is not consistent enough to be relied upon."
   ]
  },
  {
   "cell_type": "markdown",
   "metadata": {},
   "source": [
    "## Changelog\n",
    "\n",
    "#### Version 1\n",
    "\n",
    "- Set root directory for image locations\n",
    "- Read in images.\n",
    "- Resized images to all be the same size.\n",
    "- Create ImageDataGenerator.\n",
    "- Split data into training and validation data.\n",
    "- Created  and compiled model.\n",
    "- Trained model on the data.\n",
    "- Analysed accuracy of the model using accuracy and loss."
   ]
  },
  {
   "cell_type": "code",
   "execution_count": 32,
   "metadata": {},
   "outputs": [],
   "source": [
    "# Import all necessary libraries\n",
    "\n",
    "import tensorflow as tf\n",
    "from tensorflow.keras.preprocessing.image import ImageDataGenerator\n",
    "import cv2\n",
    "import os\n",
    "from tensorflow.keras import layers, models\n",
    "import numpy as np\n",
    "from tensorflow.keras.preprocessing import image"
   ]
  },
  {
   "cell_type": "code",
   "execution_count": 33,
   "metadata": {},
   "outputs": [],
   "source": [
    "# Set root directory for class folders and target size for images\n",
    "\n",
    "root_directory = 'catsanddogs/'\n",
    "target_size = (224, 224)"
   ]
  },
  {
   "cell_type": "code",
   "execution_count": 34,
   "metadata": {},
   "outputs": [],
   "source": [
    "# Resize images in dataset to target_size\n",
    "\n",
    "for class_folder in os.listdir(root_directory):\n",
    "    class_path = os.path.join(root_directory, class_folder)\n",
    "    if os.path.isdir(class_path):  # Check if it is a directory\n",
    "        # Loop through all images in the class folder\n",
    "        for filename in os.listdir(class_path):\n",
    "            if filename.endswith('.jpg') or filename.endswith('.png'):\n",
    "                img_path = os.path.join(class_path, filename)\n",
    "                img = cv2.imread(img_path)\n",
    "                img_resized = cv2.resize(img, target_size)\n",
    "                cv2.imwrite(img_path, img_resized)  # Overwrite the original image or save to a new file"
   ]
  },
  {
   "cell_type": "code",
   "execution_count": 35,
   "metadata": {},
   "outputs": [],
   "source": [
    "# Set number of training samples used in one iteration of training\n",
    "# Set number of passes through dataset\n",
    "\n",
    "batch_size = 128\n",
    "epochs = 20"
   ]
  },
  {
   "cell_type": "code",
   "execution_count": 36,
   "metadata": {},
   "outputs": [],
   "source": [
    "# Create ImageDataGenerator to allow real-time data augmentation. This helps the model generalise and reduces overfitting\n",
    "# Rescale pixel values from 0-255 to 0-1 to improve convergence during training\n",
    "# Reserve 20% of the dataset for validation\n",
    "\n",
    "train_datagen = ImageDataGenerator(rescale=1./255, validation_split=0.2)"
   ]
  },
  {
   "cell_type": "code",
   "execution_count": 37,
   "metadata": {},
   "outputs": [
    {
     "name": "stdout",
     "output_type": "stream",
     "text": [
      "Found 8023 images belonging to 2 classes.\n"
     ]
    }
   ],
   "source": [
    "# Load training data\n",
    "\n",
    "train_generator = train_datagen.flow_from_directory(\n",
    "    root_directory,\n",
    "    target_size=target_size,\n",
    "    batch_size=batch_size,\n",
    "    class_mode='categorical',\n",
    "    subset='training'\n",
    ")"
   ]
  },
  {
   "cell_type": "code",
   "execution_count": 38,
   "metadata": {},
   "outputs": [
    {
     "name": "stdout",
     "output_type": "stream",
     "text": [
      "{'cats': 0, 'dogs': 1}\n"
     ]
    }
   ],
   "source": [
    "# Check class indice values\n",
    "\n",
    "print(train_generator.class_indices)"
   ]
  },
  {
   "cell_type": "code",
   "execution_count": 39,
   "metadata": {},
   "outputs": [
    {
     "name": "stdout",
     "output_type": "stream",
     "text": [
      "Found 2005 images belonging to 2 classes.\n"
     ]
    }
   ],
   "source": [
    "# Load validation data\n",
    "\n",
    "validation_generator = train_datagen.flow_from_directory(\n",
    "    root_directory,\n",
    "    target_size=target_size,\n",
    "    batch_size=batch_size,\n",
    "    class_mode='categorical',\n",
    "    subset='validation'\n",
    ")"
   ]
  },
  {
   "cell_type": "code",
   "execution_count": 40,
   "metadata": {},
   "outputs": [],
   "source": [
    "# Three 2D convolution layers for RGB colours, filter size of 3x3\n",
    "# Reduce height and width of feature maps to reduce number of parameters and computation in the network\n",
    "\n",
    "model = models.Sequential([\n",
    "    layers.Conv2D(32, (3, 3), activation='relu', input_shape=(224, 224, 3)),\n",
    "    layers.MaxPooling2D(pool_size=(2, 2)),\n",
    "    layers.Conv2D(64, (3, 3), activation='relu'),\n",
    "    layers.MaxPooling2D(pool_size=(2, 2)),\n",
    "    layers.Conv2D(128, (3, 3), activation='relu'),\n",
    "    layers.MaxPooling2D(pool_size=(2, 2)),\n",
    "    layers.Flatten(),   # flatten 3D output to 1D vector for following layers\n",
    "    layers.Dense(128, activation='relu'),   # Learn high-level features by combining features learning in convolutional layers\n",
    "    layers.Dense(len(train_generator.class_indices), activation='softmax')  # Same number of neurons as classes, softmax outputs probability for each class\n",
    "])"
   ]
  },
  {
   "cell_type": "code",
   "execution_count": 41,
   "metadata": {},
   "outputs": [],
   "source": [
    "# Adaptive Moment Estimation optimiser because it is memory-efficient and adapts the learning rate dynamically for each parameter\n",
    "# Minimise loss function during training\n",
    "\n",
    "model.compile(optimizer='adam', loss='categorical_crossentropy', metrics=['accuracy'])"
   ]
  },
  {
   "cell_type": "code",
   "execution_count": 42,
   "metadata": {},
   "outputs": [
    {
     "name": "stdout",
     "output_type": "stream",
     "text": [
      "Epoch 1/20\n",
      "\u001b[1m62/62\u001b[0m \u001b[32m━━━━━━━━━━━━━━━━━━━━\u001b[0m\u001b[37m\u001b[0m \u001b[1m63s\u001b[0m 997ms/step - accuracy: 0.5409 - loss: 1.1343 - val_accuracy: 0.6760 - val_loss: 0.6084\n",
      "Epoch 2/20\n",
      "\u001b[1m62/62\u001b[0m \u001b[32m━━━━━━━━━━━━━━━━━━━━\u001b[0m\u001b[37m\u001b[0m \u001b[1m3s\u001b[0m 40ms/step - accuracy: 0.6875 - loss: 0.5950 - val_accuracy: 0.6302 - val_loss: 0.6288\n",
      "Epoch 3/20\n",
      "\u001b[1m62/62\u001b[0m \u001b[32m━━━━━━━━━━━━━━━━━━━━\u001b[0m\u001b[37m\u001b[0m \u001b[1m37s\u001b[0m 601ms/step - accuracy: 0.6952 - loss: 0.5826 - val_accuracy: 0.6896 - val_loss: 0.5866\n",
      "Epoch 4/20\n",
      "\u001b[1m62/62\u001b[0m \u001b[32m━━━━━━━━━━━━━━━━━━━━\u001b[0m\u001b[37m\u001b[0m \u001b[1m3s\u001b[0m 39ms/step - accuracy: 0.6875 - loss: 0.5947 - val_accuracy: 0.6885 - val_loss: 0.5801\n",
      "Epoch 5/20\n",
      "\u001b[1m62/62\u001b[0m \u001b[32m━━━━━━━━━━━━━━━━━━━━\u001b[0m\u001b[37m\u001b[0m \u001b[1m37s\u001b[0m 601ms/step - accuracy: 0.7370 - loss: 0.5249 - val_accuracy: 0.6984 - val_loss: 0.5749\n",
      "Epoch 6/20\n",
      "\u001b[1m62/62\u001b[0m \u001b[32m━━━━━━━━━━━━━━━━━━━━\u001b[0m\u001b[37m\u001b[0m \u001b[1m3s\u001b[0m 39ms/step - accuracy: 0.7188 - loss: 0.5597 - val_accuracy: 0.7104 - val_loss: 0.5744\n",
      "Epoch 7/20\n",
      "\u001b[1m62/62\u001b[0m \u001b[32m━━━━━━━━━━━━━━━━━━━━\u001b[0m\u001b[37m\u001b[0m \u001b[1m37s\u001b[0m 599ms/step - accuracy: 0.7804 - loss: 0.4680 - val_accuracy: 0.7406 - val_loss: 0.5227\n",
      "Epoch 8/20\n",
      "\u001b[1m62/62\u001b[0m \u001b[32m━━━━━━━━━━━━━━━━━━━━\u001b[0m\u001b[37m\u001b[0m \u001b[1m3s\u001b[0m 39ms/step - accuracy: 0.8438 - loss: 0.4145 - val_accuracy: 0.7406 - val_loss: 0.5342\n",
      "Epoch 9/20\n",
      "\u001b[1m62/62\u001b[0m \u001b[32m━━━━━━━━━━━━━━━━━━━━\u001b[0m\u001b[37m\u001b[0m \u001b[1m37s\u001b[0m 598ms/step - accuracy: 0.8255 - loss: 0.3881 - val_accuracy: 0.7474 - val_loss: 0.5612\n",
      "Epoch 10/20\n",
      "\u001b[1m62/62\u001b[0m \u001b[32m━━━━━━━━━━━━━━━━━━━━\u001b[0m\u001b[37m\u001b[0m \u001b[1m3s\u001b[0m 40ms/step - accuracy: 0.7969 - loss: 0.4314 - val_accuracy: 0.7453 - val_loss: 0.5530\n",
      "Epoch 11/20\n",
      "\u001b[1m62/62\u001b[0m \u001b[32m━━━━━━━━━━━━━━━━━━━━\u001b[0m\u001b[37m\u001b[0m \u001b[1m38s\u001b[0m 604ms/step - accuracy: 0.8652 - loss: 0.3213 - val_accuracy: 0.7432 - val_loss: 0.5791\n",
      "Epoch 12/20\n",
      "\u001b[1m62/62\u001b[0m \u001b[32m━━━━━━━━━━━━━━━━━━━━\u001b[0m\u001b[37m\u001b[0m \u001b[1m3s\u001b[0m 39ms/step - accuracy: 0.8750 - loss: 0.3453 - val_accuracy: 0.7333 - val_loss: 0.5884\n",
      "Epoch 13/20\n",
      "\u001b[1m62/62\u001b[0m \u001b[32m━━━━━━━━━━━━━━━━━━━━\u001b[0m\u001b[37m\u001b[0m \u001b[1m37s\u001b[0m 602ms/step - accuracy: 0.8863 - loss: 0.2716 - val_accuracy: 0.7427 - val_loss: 0.6261\n",
      "Epoch 14/20\n",
      "\u001b[1m62/62\u001b[0m \u001b[32m━━━━━━━━━━━━━━━━━━━━\u001b[0m\u001b[37m\u001b[0m \u001b[1m3s\u001b[0m 42ms/step - accuracy: 0.8594 - loss: 0.3360 - val_accuracy: 0.7406 - val_loss: 0.6330\n",
      "Epoch 15/20\n",
      "\u001b[1m62/62\u001b[0m \u001b[32m━━━━━━━━━━━━━━━━━━━━\u001b[0m\u001b[37m\u001b[0m \u001b[1m37s\u001b[0m 603ms/step - accuracy: 0.9145 - loss: 0.2123 - val_accuracy: 0.7656 - val_loss: 0.6554\n",
      "Epoch 16/20\n",
      "\u001b[1m62/62\u001b[0m \u001b[32m━━━━━━━━━━━━━━━━━━━━\u001b[0m\u001b[37m\u001b[0m \u001b[1m3s\u001b[0m 39ms/step - accuracy: 0.8906 - loss: 0.2109 - val_accuracy: 0.7583 - val_loss: 0.6636\n",
      "Epoch 17/20\n",
      "\u001b[1m62/62\u001b[0m \u001b[32m━━━━━━━━━━━━━━━━━━━━\u001b[0m\u001b[37m\u001b[0m \u001b[1m37s\u001b[0m 601ms/step - accuracy: 0.9504 - loss: 0.1368 - val_accuracy: 0.7458 - val_loss: 0.8359\n",
      "Epoch 18/20\n",
      "\u001b[1m62/62\u001b[0m \u001b[32m━━━━━━━━━━━━━━━━━━━━\u001b[0m\u001b[37m\u001b[0m \u001b[1m3s\u001b[0m 40ms/step - accuracy: 0.9219 - loss: 0.1878 - val_accuracy: 0.7495 - val_loss: 0.8311\n",
      "Epoch 19/20\n",
      "\u001b[1m62/62\u001b[0m \u001b[32m━━━━━━━━━━━━━━━━━━━━\u001b[0m\u001b[37m\u001b[0m \u001b[1m37s\u001b[0m 601ms/step - accuracy: 0.9622 - loss: 0.0975 - val_accuracy: 0.7370 - val_loss: 0.9473\n",
      "Epoch 20/20\n",
      "\u001b[1m62/62\u001b[0m \u001b[32m━━━━━━━━━━━━━━━━━━━━\u001b[0m\u001b[37m\u001b[0m \u001b[1m3s\u001b[0m 41ms/step - accuracy: 0.9609 - loss: 0.1096 - val_accuracy: 0.7427 - val_loss: 0.9504\n"
     ]
    }
   ],
   "source": [
    "# Train model\n",
    "\n",
    "history = model.fit(\n",
    "    train_generator,\n",
    "    steps_per_epoch=train_generator.samples // batch_size,\n",
    "    validation_data=validation_generator,\n",
    "    validation_steps=validation_generator.samples // batch_size,\n",
    "    epochs=epochs\n",
    ")"
   ]
  },
  {
   "cell_type": "code",
   "execution_count": 43,
   "metadata": {},
   "outputs": [
    {
     "name": "stdout",
     "output_type": "stream",
     "text": [
      "\u001b[1m16/16\u001b[0m \u001b[32m━━━━━━━━━━━━━━━━━━━━\u001b[0m\u001b[37m\u001b[0m \u001b[1m3s\u001b[0m 152ms/step - accuracy: 0.7337 - loss: 0.9564\n",
      "Validation loss: 0.9448468685150146\n",
      "Validation accuracy: 0.7411471605300903\n"
     ]
    }
   ],
   "source": [
    "# Analyse loss and accuracy measurements\n",
    "\n",
    "loss, accuracy = model.evaluate(validation_generator)\n",
    "print(f'Validation loss: {loss}')\n",
    "print(f'Validation accuracy: {accuracy}')"
   ]
  },
  {
   "cell_type": "markdown",
   "metadata": {},
   "source": [
    "#### Results\n",
    "\n",
    "An accuracy value of roughly 0.75 tells us that the model is correct more often than not, but not accurate enough to be relied upon consistently."
   ]
  },
  {
   "cell_type": "code",
   "execution_count": 44,
   "metadata": {},
   "outputs": [
    {
     "name": "stdout",
     "output_type": "stream",
     "text": [
      "\u001b[1m1/1\u001b[0m \u001b[32m━━━━━━━━━━━━━━━━━━━━\u001b[0m\u001b[37m\u001b[0m \u001b[1m0s\u001b[0m 54ms/step\n",
      "Predicted class: [0]\n"
     ]
    }
   ],
   "source": [
    "# Test model on image of sunflower\n",
    "\n",
    "img_path = 'catsanddogs/cats/cat.1130.jpg'\n",
    "img = image.load_img(img_path, target_size=target_size)\n",
    "img_array = image.img_to_array(img) / 255.0\n",
    "img_array = np.expand_dims(img_array, axis=0)\n",
    "predictions = model.predict(img_array)\n",
    "predicted_class = np.argmax(predictions, axis=1)\n",
    "print(f'Predicted class: {predicted_class}')"
   ]
  },
  {
   "cell_type": "code",
   "execution_count": 45,
   "metadata": {},
   "outputs": [
    {
     "name": "stdout",
     "output_type": "stream",
     "text": [
      "\u001b[1m1/1\u001b[0m \u001b[32m━━━━━━━━━━━━━━━━━━━━\u001b[0m\u001b[37m\u001b[0m \u001b[1m0s\u001b[0m 26ms/step\n",
      "Predicted class: [1]\n"
     ]
    }
   ],
   "source": [
    "# Test model on image of sunflower\n",
    "\n",
    "img_path = 'catsanddogs/dogs/dog.290.jpg'\n",
    "img = image.load_img(img_path, target_size=target_size)\n",
    "img_array = image.img_to_array(img) / 255.0\n",
    "img_array = np.expand_dims(img_array, axis=0)\n",
    "predictions = model.predict(img_array)\n",
    "predicted_class = np.argmax(predictions, axis=1)\n",
    "print(f'Predicted class: {predicted_class}')"
   ]
  }
 ],
 "metadata": {
  "kernelspec": {
   "display_name": "Python 3",
   "language": "python",
   "name": "python3"
  },
  "language_info": {
   "codemirror_mode": {
    "name": "ipython",
    "version": 3
   },
   "file_extension": ".py",
   "mimetype": "text/x-python",
   "name": "python",
   "nbconvert_exporter": "python",
   "pygments_lexer": "ipython3",
   "version": "3.12.9"
  }
 },
 "nbformat": 4,
 "nbformat_minor": 2
}
